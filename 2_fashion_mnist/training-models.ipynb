{
 "cells": [
  {
   "cell_type": "code",
   "execution_count": 1,
   "metadata": {},
   "outputs": [
    {
     "name": "stdout",
     "output_type": "stream",
     "text": [
      "WARNING:tensorflow:From /Users/danielfrg/workspace/anaconda/ac18-tutorial/fashion-mnist/envs/anaconda44_py35/lib/python3.6/site-packages/tensorflow/contrib/learn/python/learn/datasets/base.py:198: retry (from tensorflow.contrib.learn.python.learn.datasets.base) is deprecated and will be removed in a future version.\n",
      "Instructions for updating:\n",
      "Use the retry module or similar alternatives.\n"
     ]
    }
   ],
   "source": [
    "import numpy as np\n",
    "import tensorflow as tf\n",
    "from tensorflow.examples.tutorials.mnist import input_data"
   ]
  },
  {
   "cell_type": "code",
   "execution_count": 2,
   "metadata": {},
   "outputs": [
    {
     "data": {
      "text/plain": [
       "'1.7.0'"
      ]
     },
     "execution_count": 2,
     "metadata": {},
     "output_type": "execute_result"
    }
   ],
   "source": [
    "tf.__version__"
   ]
  },
  {
   "cell_type": "code",
   "execution_count": 3,
   "metadata": {},
   "outputs": [],
   "source": [
    "feature_columns = [\n",
    "    tf.feature_column.numeric_column(\n",
    "    \"pixels\", shape=784)\n",
    "]"
   ]
  },
  {
   "cell_type": "code",
   "execution_count": 4,
   "metadata": {},
   "outputs": [],
   "source": [
    "logdir = './model/'"
   ]
  },
  {
   "cell_type": "markdown",
   "metadata": {},
   "source": [
    "## Linear classifier"
   ]
  },
  {
   "cell_type": "code",
   "execution_count": 5,
   "metadata": {},
   "outputs": [
    {
     "name": "stdout",
     "output_type": "stream",
     "text": [
      "INFO:tensorflow:Using default config.\n",
      "INFO:tensorflow:Using config: {'_model_dir': './model/linear', '_tf_random_seed': None, '_save_summary_steps': 100, '_save_checkpoints_steps': None, '_save_checkpoints_secs': 600, '_session_config': None, '_keep_checkpoint_max': 5, '_keep_checkpoint_every_n_hours': 10000, '_log_step_count_steps': 100, '_service': None, '_cluster_spec': <tensorflow.python.training.server_lib.ClusterSpec object at 0x113528160>, '_task_type': 'worker', '_task_id': 0, '_global_id_in_cluster': 0, '_master': '', '_evaluation_master': '', '_is_chief': True, '_num_ps_replicas': 0, '_num_worker_replicas': 1}\n"
     ]
    }
   ],
   "source": [
    "classifier = tf.estimator.LinearClassifier(\n",
    "    feature_columns=feature_columns, \n",
    "    n_classes=10,\n",
    "    model_dir=logdir + 'linear')"
   ]
  },
  {
   "cell_type": "code",
   "execution_count": 6,
   "metadata": {},
   "outputs": [],
   "source": [
    "def make_input_fn(data, batch_size, num_epochs, shuffle):\n",
    "    return tf.estimator.inputs.numpy_input_fn(\n",
    "             x={'pixels': data.images},\n",
    "             y=data.labels.astype(np.int64),\n",
    "             batch_size=batch_size,\n",
    "             num_epochs=num_epochs,\n",
    "             shuffle=shuffle)"
   ]
  },
  {
   "cell_type": "code",
   "execution_count": 7,
   "metadata": {},
   "outputs": [
    {
     "name": "stdout",
     "output_type": "stream",
     "text": [
      "WARNING:tensorflow:From <ipython-input-7-58b2b6d818d9>:1: read_data_sets (from tensorflow.contrib.learn.python.learn.datasets.mnist) is deprecated and will be removed in a future version.\n",
      "Instructions for updating:\n",
      "Please use alternatives such as official/mnist/dataset.py from tensorflow/models.\n",
      "WARNING:tensorflow:From /Users/danielfrg/workspace/anaconda/ac18-tutorial/fashion-mnist/envs/anaconda44_py35/lib/python3.6/site-packages/tensorflow/contrib/learn/python/learn/datasets/mnist.py:260: maybe_download (from tensorflow.contrib.learn.python.learn.datasets.base) is deprecated and will be removed in a future version.\n",
      "Instructions for updating:\n",
      "Please write your own downloading logic.\n",
      "WARNING:tensorflow:From /Users/danielfrg/workspace/anaconda/ac18-tutorial/fashion-mnist/envs/anaconda44_py35/lib/python3.6/site-packages/tensorflow/contrib/learn/python/learn/datasets/mnist.py:262: extract_images (from tensorflow.contrib.learn.python.learn.datasets.mnist) is deprecated and will be removed in a future version.\n",
      "Instructions for updating:\n",
      "Please use tf.data to implement this functionality.\n",
      "Extracting ./data/train-images-idx3-ubyte.gz\n",
      "WARNING:tensorflow:From /Users/danielfrg/workspace/anaconda/ac18-tutorial/fashion-mnist/envs/anaconda44_py35/lib/python3.6/site-packages/tensorflow/contrib/learn/python/learn/datasets/mnist.py:267: extract_labels (from tensorflow.contrib.learn.python.learn.datasets.mnist) is deprecated and will be removed in a future version.\n",
      "Instructions for updating:\n",
      "Please use tf.data to implement this functionality.\n",
      "Extracting ./data/train-labels-idx1-ubyte.gz\n",
      "Extracting ./data/t10k-images-idx3-ubyte.gz\n",
      "Extracting ./data/t10k-labels-idx1-ubyte.gz\n",
      "WARNING:tensorflow:From /Users/danielfrg/workspace/anaconda/ac18-tutorial/fashion-mnist/envs/anaconda44_py35/lib/python3.6/site-packages/tensorflow/contrib/learn/python/learn/datasets/mnist.py:290: DataSet.__init__ (from tensorflow.contrib.learn.python.learn.datasets.mnist) is deprecated and will be removed in a future version.\n",
      "Instructions for updating:\n",
      "Please use alternatives such as official/mnist/dataset.py from tensorflow/models.\n"
     ]
    }
   ],
   "source": [
    "DATA_SETS = input_data.read_data_sets(\"./data\")"
   ]
  },
  {
   "cell_type": "code",
   "execution_count": 8,
   "metadata": {},
   "outputs": [
    {
     "name": "stdout",
     "output_type": "stream",
     "text": [
      "INFO:tensorflow:Calling model_fn.\n",
      "INFO:tensorflow:Done calling model_fn.\n",
      "INFO:tensorflow:Create CheckpointSaverHook.\n",
      "INFO:tensorflow:Graph was finalized.\n",
      "INFO:tensorflow:Running local_init_op.\n",
      "INFO:tensorflow:Done running local_init_op.\n",
      "INFO:tensorflow:Saving checkpoints for 1 into ./model/linear/model.ckpt.\n",
      "INFO:tensorflow:loss = 230.25854, step = 1\n",
      "INFO:tensorflow:global_step/sec: 555.787\n",
      "INFO:tensorflow:loss = 49.36232, step = 101 (0.181 sec)\n",
      "INFO:tensorflow:global_step/sec: 721.725\n",
      "INFO:tensorflow:loss = 22.981068, step = 201 (0.139 sec)\n",
      "INFO:tensorflow:global_step/sec: 714.031\n",
      "INFO:tensorflow:loss = 40.763596, step = 301 (0.140 sec)\n",
      "INFO:tensorflow:global_step/sec: 708.746\n",
      "INFO:tensorflow:loss = 34.36815, step = 401 (0.141 sec)\n",
      "INFO:tensorflow:global_step/sec: 742.971\n",
      "INFO:tensorflow:loss = 23.156206, step = 501 (0.135 sec)\n",
      "INFO:tensorflow:global_step/sec: 715.035\n",
      "INFO:tensorflow:loss = 50.757305, step = 601 (0.140 sec)\n",
      "INFO:tensorflow:global_step/sec: 705.897\n",
      "INFO:tensorflow:loss = 25.937637, step = 701 (0.141 sec)\n",
      "INFO:tensorflow:global_step/sec: 757.196\n",
      "INFO:tensorflow:loss = 31.705147, step = 801 (0.132 sec)\n",
      "INFO:tensorflow:global_step/sec: 723.402\n",
      "INFO:tensorflow:loss = 19.279247, step = 901 (0.138 sec)\n",
      "INFO:tensorflow:global_step/sec: 714.244\n",
      "INFO:tensorflow:loss = 22.89644, step = 1001 (0.140 sec)\n",
      "INFO:tensorflow:Saving checkpoints for 1100 into ./model/linear/model.ckpt.\n",
      "INFO:tensorflow:Loss for final step: 28.920647.\n"
     ]
    },
    {
     "data": {
      "text/plain": [
       "<tensorflow.python.estimator.canned.linear.LinearClassifier at 0x11350ef60>"
      ]
     },
     "execution_count": 8,
     "metadata": {},
     "output_type": "execute_result"
    }
   ],
   "source": [
    "classifier.train(input_fn=make_input_fn(DATA_SETS.train, \n",
    "                               batch_size=100, \n",
    "                               num_epochs=2, \n",
    "                               shuffle=True))"
   ]
  },
  {
   "cell_type": "code",
   "execution_count": 9,
   "metadata": {},
   "outputs": [
    {
     "name": "stdout",
     "output_type": "stream",
     "text": [
      "INFO:tensorflow:Calling model_fn.\n",
      "INFO:tensorflow:Done calling model_fn.\n",
      "INFO:tensorflow:Starting evaluation at 2018-04-03-02:38:01\n",
      "INFO:tensorflow:Graph was finalized.\n",
      "INFO:tensorflow:Restoring parameters from ./model/linear/model.ckpt-1100\n",
      "INFO:tensorflow:Running local_init_op.\n",
      "INFO:tensorflow:Done running local_init_op.\n",
      "INFO:tensorflow:Finished evaluation at 2018-04-03-02:38:02\n",
      "INFO:tensorflow:Saving dict for global step 1100: accuracy = 0.917, average_loss = 0.29547855, global_step = 1100, loss = 29.547857\n"
     ]
    }
   ],
   "source": [
    "accuracy_score = classifier.evaluate(\n",
    "    input_fn=make_input_fn(\n",
    "        DATA_SETS.test, \n",
    "        batch_size=100, \n",
    "        num_epochs=1, \n",
    "        shuffle=False))['accuracy']"
   ]
  },
  {
   "cell_type": "code",
   "execution_count": 10,
   "metadata": {},
   "outputs": [
    {
     "data": {
      "text/plain": [
       "0.917"
      ]
     },
     "execution_count": 10,
     "metadata": {},
     "output_type": "execute_result"
    }
   ],
   "source": [
    "accuracy_score"
   ]
  },
  {
   "cell_type": "markdown",
   "metadata": {},
   "source": [
    "## Deep classifier"
   ]
  },
  {
   "cell_type": "code",
   "execution_count": 13,
   "metadata": {},
   "outputs": [
    {
     "name": "stdout",
     "output_type": "stream",
     "text": [
      "INFO:tensorflow:Using default config.\n",
      "INFO:tensorflow:Using config: {'_model_dir': './model/deep', '_tf_random_seed': None, '_save_summary_steps': 100, '_save_checkpoints_steps': None, '_save_checkpoints_secs': 600, '_session_config': None, '_keep_checkpoint_max': 5, '_keep_checkpoint_every_n_hours': 10000, '_log_step_count_steps': 100, '_service': None, '_cluster_spec': <tensorflow.python.training.server_lib.ClusterSpec object at 0x1114724a8>, '_task_type': 'worker', '_task_id': 0, '_global_id_in_cluster': 0, '_master': '', '_evaluation_master': '', '_is_chief': True, '_num_ps_replicas': 0, '_num_worker_replicas': 1}\n"
     ]
    }
   ],
   "source": [
    "deep_classifier = tf.estimator.DNNClassifier(\n",
    "        feature_columns=feature_columns, \n",
    "        n_classes=10,\n",
    "        hidden_units=[100, 75, 50],\n",
    "        model_dir=logdir + \"deep\"\n",
    "    )"
   ]
  },
  {
   "cell_type": "code",
   "execution_count": 14,
   "metadata": {},
   "outputs": [
    {
     "name": "stdout",
     "output_type": "stream",
     "text": [
      "INFO:tensorflow:Calling model_fn.\n",
      "INFO:tensorflow:Done calling model_fn.\n",
      "INFO:tensorflow:Create CheckpointSaverHook.\n",
      "INFO:tensorflow:Graph was finalized.\n",
      "INFO:tensorflow:Running local_init_op.\n",
      "INFO:tensorflow:Done running local_init_op.\n",
      "INFO:tensorflow:Saving checkpoints for 1 into ./model/deep/model.ckpt.\n",
      "INFO:tensorflow:loss = 233.56328, step = 1\n",
      "INFO:tensorflow:global_step/sec: 409.438\n",
      "INFO:tensorflow:loss = 14.925431, step = 101 (0.245 sec)\n",
      "INFO:tensorflow:global_step/sec: 458.446\n",
      "INFO:tensorflow:loss = 21.767832, step = 201 (0.218 sec)\n",
      "INFO:tensorflow:global_step/sec: 479.117\n",
      "INFO:tensorflow:loss = 9.669473, step = 301 (0.209 sec)\n",
      "INFO:tensorflow:global_step/sec: 498.184\n",
      "INFO:tensorflow:loss = 15.121862, step = 401 (0.201 sec)\n",
      "INFO:tensorflow:global_step/sec: 507.625\n",
      "INFO:tensorflow:loss = 14.648903, step = 501 (0.197 sec)\n",
      "INFO:tensorflow:global_step/sec: 523.354\n",
      "INFO:tensorflow:loss = 17.677376, step = 601 (0.191 sec)\n",
      "INFO:tensorflow:global_step/sec: 506.344\n",
      "INFO:tensorflow:loss = 16.8735, step = 701 (0.198 sec)\n",
      "INFO:tensorflow:global_step/sec: 487.69\n",
      "INFO:tensorflow:loss = 16.362934, step = 801 (0.206 sec)\n",
      "INFO:tensorflow:global_step/sec: 481.512\n",
      "INFO:tensorflow:loss = 14.393665, step = 901 (0.207 sec)\n",
      "INFO:tensorflow:global_step/sec: 489.426\n",
      "INFO:tensorflow:loss = 12.080965, step = 1001 (0.204 sec)\n",
      "INFO:tensorflow:Saving checkpoints for 1100 into ./model/deep/model.ckpt.\n",
      "INFO:tensorflow:Loss for final step: 6.477304.\n"
     ]
    },
    {
     "data": {
      "text/plain": [
       "<tensorflow.python.estimator.canned.dnn.DNNClassifier at 0x1114726a0>"
      ]
     },
     "execution_count": 14,
     "metadata": {},
     "output_type": "execute_result"
    }
   ],
   "source": [
    "deep_classifier.train(input_fn=make_input_fn(DATA_SETS.train, \n",
    "                               batch_size=100, \n",
    "                               num_epochs=2, \n",
    "                               shuffle=True))"
   ]
  },
  {
   "cell_type": "code",
   "execution_count": 15,
   "metadata": {},
   "outputs": [
    {
     "name": "stdout",
     "output_type": "stream",
     "text": [
      "INFO:tensorflow:Calling model_fn.\n",
      "INFO:tensorflow:Done calling model_fn.\n",
      "INFO:tensorflow:Starting evaluation at 2018-04-03-02:40:40\n",
      "INFO:tensorflow:Graph was finalized.\n",
      "INFO:tensorflow:Restoring parameters from ./model/deep/model.ckpt-1100\n",
      "INFO:tensorflow:Running local_init_op.\n",
      "INFO:tensorflow:Done running local_init_op.\n",
      "INFO:tensorflow:Finished evaluation at 2018-04-03-02:40:41\n",
      "INFO:tensorflow:Saving dict for global step 1100: accuracy = 0.9654, average_loss = 0.106055215, global_step = 1100, loss = 10.605521\n"
     ]
    }
   ],
   "source": [
    "accuracy_score = deep_classifier.evaluate(\n",
    "    input_fn=make_input_fn(\n",
    "        DATA_SETS.test, \n",
    "        batch_size=100, \n",
    "        num_epochs=1, \n",
    "        shuffle=False))['accuracy']"
   ]
  },
  {
   "cell_type": "code",
   "execution_count": 16,
   "metadata": {},
   "outputs": [
    {
     "data": {
      "text/plain": [
       "0.9654"
      ]
     },
     "execution_count": 16,
     "metadata": {},
     "output_type": "execute_result"
    }
   ],
   "source": [
    "accuracy_score"
   ]
  },
  {
   "cell_type": "code",
   "execution_count": null,
   "metadata": {},
   "outputs": [],
   "source": []
  }
 ],
 "metadata": {
  "kernelspec": {
   "display_name": "Python 3",
   "language": "python",
   "name": "python3"
  },
  "language_info": {
   "codemirror_mode": {
    "name": "ipython",
    "version": 3
   },
   "file_extension": ".py",
   "mimetype": "text/x-python",
   "name": "python",
   "nbconvert_exporter": "python",
   "pygments_lexer": "ipython3",
   "version": "3.6.5"
  }
 },
 "nbformat": 4,
 "nbformat_minor": 2
}
